{
  "nbformat": 4,
  "nbformat_minor": 0,
  "metadata": {
    "colab": {
      "name": "PATE-Pneumonia_Classifier.ipynb",
      "provenance": [],
      "collapsed_sections": [],
      "include_colab_link": true
    },
    "kernelspec": {
      "name": "python3",
      "display_name": "Python 3"
    },
    "accelerator": "GPU"
  },
  "cells": [
    {
      "cell_type": "markdown",
      "metadata": {
        "id": "view-in-github",
        "colab_type": "text"
      },
      "source": [
        "<a href=\"https://colab.research.google.com/github/vipulprabhu2000/pneumonia_classifier/blob/master/PATE_Pneumonia_Classifier.ipynb\" target=\"_parent\"><img src=\"https://colab.research.google.com/assets/colab-badge.svg\" alt=\"Open In Colab\"/></a>"
      ]
    },
    {
      "cell_type": "markdown",
      "metadata": {
        "id": "QB7E_nyi1LgR"
      },
      "source": [
        "**PSL Internship**\n",
        "\n",
        "GEC_Batch_32"
      ]
    },
    {
      "cell_type": "code",
      "metadata": {
        "id": "fNa_cMtNtXIT",
        "colab": {
          "base_uri": "https://localhost:8080/",
          "height": 591
        },
        "outputId": "eb732715-c387-4093-8c9c-c7e74ce118a6"
      },
      "source": [
        "## install syft package to use Private Aggregation of Teacher Ensembles (PATE)\n",
        "!pip install syft -q"
      ],
      "execution_count": null,
      "outputs": [
        {
          "output_type": "stream",
          "text": [
            "\u001b[K     |████████████████████████████████| 440kB 4.8MB/s \n",
            "\u001b[K     |████████████████████████████████| 753.4MB 21kB/s \n",
            "\u001b[K     |████████████████████████████████| 61kB 9.2MB/s \n",
            "\u001b[K     |████████████████████████████████| 9.0MB 48.6MB/s \n",
            "\u001b[K     |████████████████████████████████| 81kB 12.1MB/s \n",
            "\u001b[K     |████████████████████████████████| 450kB 49.9MB/s \n",
            "\u001b[K     |████████████████████████████████| 204kB 52.6MB/s \n",
            "\u001b[K     |████████████████████████████████| 1.8MB 45.7MB/s \n",
            "\u001b[K     |████████████████████████████████| 71kB 10.6MB/s \n",
            "\u001b[K     |████████████████████████████████| 2.0MB 48.0MB/s \n",
            "\u001b[K     |████████████████████████████████| 81kB 10.5MB/s \n",
            "\u001b[K     |████████████████████████████████| 133kB 59.8MB/s \n",
            "\u001b[K     |████████████████████████████████| 4.0MB 37.8MB/s \n",
            "\u001b[K     |████████████████████████████████| 491kB 48.0MB/s \n",
            "\u001b[K     |████████████████████████████████| 2.2MB 44.9MB/s \n",
            "\u001b[K     |████████████████████████████████| 61kB 9.4MB/s \n",
            "\u001b[K     |████████████████████████████████| 61kB 9.2MB/s \n",
            "\u001b[K     |████████████████████████████████| 61kB 9.8MB/s \n",
            "\u001b[K     |████████████████████████████████| 36.9MB 65kB/s \n",
            "\u001b[K     |████████████████████████████████| 51kB 8.3MB/s \n",
            "\u001b[K     |████████████████████████████████| 81kB 10.6MB/s \n",
            "\u001b[K     |████████████████████████████████| 2.6MB 44.0MB/s \n",
            "\u001b[K     |████████████████████████████████| 51kB 8.0MB/s \n",
            "\u001b[?25h  Building wheel for openmined.threepio (setup.py) ... \u001b[?25l\u001b[?25hdone\n",
            "  Building wheel for psutil (setup.py) ... \u001b[?25l\u001b[?25hdone\n",
            "  Building wheel for tornado (setup.py) ... \u001b[?25l\u001b[?25hdone\n",
            "  Building wheel for phe (setup.py) ... \u001b[?25l\u001b[?25hdone\n",
            "\u001b[31mERROR: google-colab 1.0.0 has requirement notebook~=5.3.0; python_version >= \"3.0\", but you'll have notebook 5.7.8 which is incompatible.\u001b[0m\n",
            "\u001b[31mERROR: google-colab 1.0.0 has requirement requests~=2.23.0, but you'll have requests 2.22.0 which is incompatible.\u001b[0m\n",
            "\u001b[31mERROR: google-colab 1.0.0 has requirement tornado~=5.1.0; python_version >= \"3.0\", but you'll have tornado 4.5.3 which is incompatible.\u001b[0m\n",
            "\u001b[31mERROR: datascience 0.10.6 has requirement folium==0.2.1, but you'll have folium 0.8.3 which is incompatible.\u001b[0m\n",
            "\u001b[31mERROR: bokeh 2.1.1 has requirement tornado>=5.1, but you'll have tornado 4.5.3 which is incompatible.\u001b[0m\n",
            "\u001b[31mERROR: albumentations 0.1.12 has requirement imgaug<0.2.7,>=0.2.5, but you'll have imgaug 0.2.9 which is incompatible.\u001b[0m\n"
          ],
          "name": "stdout"
        }
      ]
    },
    {
      "cell_type": "code",
      "metadata": {
        "id": "KLKOWhx-txTw"
      },
      "source": [
        "# import our libraries\n",
        "import numpy as np\n",
        "import pandas as pd\n",
        "import torch\n",
        "from torchvision import datasets, transforms,models\n",
        "from torch.utils.data import Dataset, Subset, DataLoader\n",
        "from torch import nn, optim\n",
        "import torch.nn.functional as F\n",
        "from PIL import Image\n",
        "import time, os, random\n",
        "\n",
        "import matplotlib.pyplot as plt\n",
        "from matplotlib.image import imread\n",
        "import seaborn as sns\n",
        "import random\n",
        "import cv2\n",
        "import copy\n",
        "\n",
        "from torchsummary import summary \n",
        "\n",
        "from torchvision.utils import make_grid\n",
        "from torch.utils.data import random_split\n",
        "\n",
        "from mlxtend.plotting import plot_confusion_matrix\n",
        "from sklearn.metrics import confusion_matrix\n",
        "\n",
        "# libary from pysyft needed to perform pate analysis\n",
        "from syft.frameworks.torch.dp import pate\n",
        "\n",
        "# we'll train on GPU if it is available\n",
        "device = torch.device(\"cuda\" if torch.cuda.is_available() else \"cpu\")"
      ],
      "execution_count": null,
      "outputs": []
    },
    {
      "cell_type": "code",
      "metadata": {
        "id": "cE-A9OAFErs_",
        "colab": {
          "base_uri": "https://localhost:8080/",
          "height": 50
        },
        "outputId": "cbd366ce-ad1b-4a88-8d14-42d46d635d8f"
      },
      "source": [
        "## authorize access to google drive\n",
        "from google.colab import drive\n",
        "drive.mount('/content/drive')\n",
        "\n",
        "# navigate to project directory\n",
        "%cd '/content/drive/My Drive/Colab Notebooks/OpenMined/'"
      ],
      "execution_count": null,
      "outputs": [
        {
          "output_type": "stream",
          "text": [
            "Mounted at /content/drive\n",
            "/content/drive/My Drive/Colab Notebooks/OpenMined\n"
          ],
          "name": "stdout"
        }
      ]
    },
    {
      "cell_type": "code",
      "metadata": {
        "id": "hTpgjWV-vv49"
      },
      "source": [
        "# Custom dataset\n",
        "#downloaded from kaggle, uploaded from drive.\n",
        "class ChestXrayDataset(Dataset):\n",
        "    def __init__(self, root_dir, txt_NORMAL, txt_PNEUMONIA, transform=None):\n",
        "        \"\"\"\n",
        "        Args:\n",
        "            txt_path (string): Path to the txt file with annotations.\n",
        "            root_dir (string): Directory with all the images.\n",
        "            transform (callable, optional): Optional transform to be applied\n",
        "                on a sample.\n",
        "        File structure:\n",
        "        - root_dir\n",
        "            - NORMAL\n",
        "                - images\n",
        "                - ......\n",
        "            - PNEUMONIA\n",
        "                - images\n",
        "                - ......\n",
        "        \"\"\"\n",
        "        self.root_dir = root_dir\n",
        "        self.txt_path = [txt_NORMAL,txt_PNEUMONIA]\n",
        "        self.classes = ['NORMAL', 'PNEUMONIA']\n",
        "        self.num_cls = len(self.classes)\n",
        "        self.img_list = []\n",
        "        for c in range(self.num_cls):\n",
        "            cls_list = [[os.path.join(self.root_dir,self.classes[c],item), c] for item in read_txt(self.txt_path[c])]\n",
        "            self.img_list += cls_list\n",
        "        self.transform = transform\n",
        "    \n",
        "    def __len__(self):\n",
        "        return len(self.img_list)\n",
        "\n",
        "    def __getitem__(self, idx):\n",
        "        if torch.is_tensor(idx):\n",
        "            idx = idx.tolist()\n",
        "\n",
        "        img_path = self.img_list[idx][0]\n",
        "        image = Image.open(img_path).convert('RGB')\n",
        "\n",
        "        if self.transform:\n",
        "            image = self.transform(image)\n",
        "        label = int(self.img_list[idx][1])\n",
        "        return image, label\n",
        "\n",
        "def read_txt(txt_path):\n",
        "    with open(txt_path) as f:\n",
        "        lines = f.readlines()\n",
        "    txt_data = [line.strip() for line in lines]\n",
        "    return txt_data"
      ],
      "execution_count": null,
      "outputs": []
    },
    {
      "cell_type": "code",
      "metadata": {
        "id": "7u3Ud8Ouv0X2",
        "colab": {
          "base_uri": "https://localhost:8080/",
          "height": 50
        },
        "outputId": "543904d6-e67a-4e6d-c4ae-22146a1d9ce4"
      },
      "source": [
        "batchsize=16\n",
        "path = './data/images'\n",
        "\n",
        "# Transforms used for datasets\n",
        "data_transforms = transforms.Compose([\n",
        "    transforms.RandomResizedCrop(size=256, scale=(0.8, 1.0)),\n",
        "    transforms.RandomRotation(degrees=15),\n",
        "    transforms.ColorJitter(),\n",
        "    transforms.RandomHorizontalFlip(),\n",
        "    transforms.CenterCrop(size=224),  # Image net standards\n",
        "    transforms.ToTensor(),\n",
        "    transforms.Normalize([0.485, 0.456, 0.406],\n",
        "                             [0.229, 0.224, 0.225])  # Imagenet standards\n",
        "])\n",
        "\n",
        "# divided among teachers\n",
        "trainset = ChestXrayDataset(root_dir=f'{path}',\n",
        "                              txt_NORMAL='./data/labels/NORMAL/trainNORMAL.txt',\n",
        "                              txt_PNEUMONIA='./data/labels/PNEUMONIA/trainPNEUMONIA.txt',\n",
        "                              transform= data_transforms)\n",
        "\n",
        "# used as student valid set    \n",
        "validset = ChestXrayDataset(root_dir=f'{path}',\n",
        "                              txt_NORMAL='./data/labels/NORMAL/valNORMAL.txt',\n",
        "                              txt_PNEUMONIA='./data/labels/PNEUMONIA/valPNEUMONIA.txt',\n",
        "                              transform= data_transforms)\n",
        "\n",
        "# used as student train set    \n",
        "testset = ChestXrayDataset(root_dir=f'{path}',\n",
        "                              txt_NORMAL='./data/labels/NORMAL/testNORMAL.txt',\n",
        "                              txt_PNEUMONIA='./data/labels/PNEUMONIA/testPNEUMONIA.txt',\n",
        "                              transform= data_transforms)\n",
        "\n",
        "print(\"Number of Classes: \",len(trainset.classes))\n",
        "len(trainset), len(testset), len(validset)"
      ],
      "execution_count": null,
      "outputs": [
        {
          "output_type": "stream",
          "text": [
            "Number of Classes:  2\n"
          ],
          "name": "stdout"
        },
        {
          "output_type": "execute_result",
          "data": {
            "text/plain": [
              "(4582, 924, 350)"
            ]
          },
          "metadata": {
            "tags": []
          },
          "execution_count": 38
        }
      ]
    },
    {
      "cell_type": "code",
      "metadata": {
        "id": "st2K9tP0v_cj",
        "colab": {
          "base_uri": "https://localhost:8080/",
          "height": 182
        },
        "outputId": "38e2b59f-2200-4f05-9332-76cdcea1af50"
      },
      "source": [
        "data_loader = DataLoader(trainset, batch_size=batchsize, shuffle=True)\n",
        "\n",
        "## Method to display Image for Tensor\n",
        "def imshow(image, ax=None, title=None, normalize=True):\n",
        "    \"\"\"Imshow for Tensor.\"\"\"\n",
        "    if ax is None:\n",
        "        fig, ax = plt.subplots()\n",
        "    #print(type(image))\n",
        "    image = image.numpy().transpose((1, 2, 0))\n",
        "\n",
        "    if normalize:\n",
        "        mean = np.array([0.485, 0.456, 0.406])\n",
        "        std = np.array([0.229, 0.224, 0.225])\n",
        "        image = std * image + mean\n",
        "        image = np.clip(image, 0, 1)\n",
        "\n",
        "    ax.imshow(image)\n",
        "    ax.spines['top'].set_visible(False)\n",
        "    ax.spines['right'].set_visible(False)\n",
        "    ax.spines['left'].set_visible(False)\n",
        "    ax.spines['bottom'].set_visible(False)\n",
        "    ax.tick_params(axis='both', length=0)\n",
        "    ax.set_xticklabels('')\n",
        "    ax.set_yticklabels('')\n",
        "    return ax\n",
        "\n",
        "\n",
        "# Displaying Images and other info about the train set\n",
        "\n",
        "images, labels = next(iter(data_loader))\n",
        "print(images.shape, labels)\n",
        "images\n",
        "\n",
        "fig, axes = plt.subplots(figsize=(16,5), ncols=5)\n",
        "for ii in range(5):\n",
        "    ax = axes[ii]\n",
        "    ax.set_title(labels[ii])\n",
        "    imshow(images[ii], ax=ax, normalize=True)"
      ],
      "execution_count": null,
      "outputs": [
        {
          "output_type": "stream",
          "text": [
            "torch.Size([16, 3, 224, 224]) tensor([1, 0, 0, 1, 0, 1, 1, 1, 0, 0, 1, 0, 1, 1, 1, 0])\n"
          ],
          "name": "stdout"
        },
        {
          "output_type": "display_data",
          "data": {
            "image/png": "[encoded data removed]",
            "text/plain": [
              "<Figure size 1152x360 with 5 Axes>"
            ]
          },
          "metadata": {
            "tags": [],
            "needs_background": "light"
          }
        }
      ]
    },
    {
      "cell_type": "code",
      "metadata": {
        "id": "oL6Zr74XwCRy",
        "colab": {
          "base_uri": "https://localhost:8080/",
          "height": 34
        },
        "outputId": "6d39f859-8e42-4ee7-e583-07663b3f6efb"
      },
      "source": [
        "# TEACHERS\n",
        "#divide train set among teachers and create dataloaders for valid and trainsets\n",
        "num_teachers = 5\n",
        "valid_per = 0.2 #20% for validation\n",
        "batch_size = 32\n",
        "\n",
        "def teacher_dataloaders(transet=trainset, num_teachers=num_teachers, batch_size=batch_size, valid_per = 0.2):\n",
        "  trainloaders = []\n",
        "  validloaders = []\n",
        "  teacher_data_len = len(trainset) // num_teachers\n",
        "\n",
        "  # create a list of shuffled indices\n",
        "  my_list = random.sample(range(1,len(trainset)), len(trainset)-1)\n",
        "  random.shuffle(my_list)\n",
        "\n",
        "  for i in range(num_teachers):\n",
        "    # get particular subset of data\n",
        "    indice = my_list[i*teacher_data_len: (i+1)*teacher_data_len]\n",
        "    data_subset = Subset(trainset, indice)\n",
        "\n",
        "    # split into train and validation set\n",
        "    valid_size = int(len(data_subset) * valid_per)\n",
        "    train_size = len(data_subset) - valid_size\n",
        "    train_subset, valid_subset = torch.utils.data.random_split(data_subset, [train_size,valid_size])\n",
        "\n",
        "    #create data loaders\n",
        "    trainloader = DataLoader(train_subset, batch_size=batch_size, shuffle=True, num_workers=1)\n",
        "    validloader = DataLoader(valid_subset, batch_size=batch_size, shuffle=False, num_workers=1)\n",
        "\n",
        "    #add dataloaders to list\n",
        "    trainloaders.append(trainloader)\n",
        "    validloaders.append(validloader)\n",
        "\n",
        "  return trainloaders, validloaders\n",
        "\n",
        "# creating dataloaders\n",
        "trainloaders, validloaders = teacher_dataloaders()\n",
        "len(trainloaders), len(validloaders)"
      ],
      "execution_count": null,
      "outputs": [
        {
          "output_type": "execute_result",
          "data": {
            "text/plain": [
              "(5, 5)"
            ]
          },
          "metadata": {
            "tags": []
          },
          "execution_count": 40
        }
      ]
    },
    {
      "cell_type": "code",
      "metadata": {
        "id": "8-21HopCwFNC",
        "colab": {
          "base_uri": "https://localhost:8080/",
          "height": 34
        },
        "outputId": "54c25a4a-49c8-4c77-b421-5271018cd5e4"
      },
      "source": [
        "#  # STUDENT\n",
        "# split into train and validation set\n",
        "valid_size = int(len(testset) * 0.3)\n",
        "train_size = len(testset) - valid_size\n",
        "student_train_subset, student_valid_subset = torch.utils.data.random_split(testset, [train_size,valid_size])\n",
        "\n",
        "#create data loaders\n",
        "student_train_loader = DataLoader(student_train_subset, batch_size=batch_size, shuffle=False, num_workers=1)\n",
        "student_valid_loader = DataLoader(student_valid_subset, batch_size=batch_size, shuffle=False, num_workers=1)\n",
        "\n",
        "len(student_train_loader), len(student_valid_loader)"
      ],
      "execution_count": null,
      "outputs": [
        {
          "output_type": "execute_result",
          "data": {
            "text/plain": [
              "(21, 9)"
            ]
          },
          "metadata": {
            "tags": []
          },
          "execution_count": 41
        }
      ]
    },
    {
      "cell_type": "code",
      "metadata": {
        "id": "hpF-ZWAghQi8"
      },
      "source": [
        "class SimpleCNN(torch.nn.Module):\n",
        "      def __init__(self):\n",
        "        super().__init__()\n",
        "        layer1 = torch.nn.Sequential()\n",
        "        layer1.add_module('conv1', torch.nn.Conv2d(3, 32, 3, 1, padding=1))\n",
        "        layer1.add_module('drop1',torch.nn.Dropout(0.25))\n",
        "        layer1.add_module('relu1', torch.nn.ReLU(True))\n",
        "        layer1.add_module('pool1', torch.nn.MaxPool2d(2, 2))\n",
        "        layer1.add_module('conv1', torch.nn.Conv2d(3,64, 3, 1, padding=1))\n",
        "        layer1.add_module('drop1',torch.nn.Dropout(0.25))\n",
        "        layer1.add_module('relu2', torch.nn.ReLU(True))\n",
        "        layer1.add_module('pool2', torch.nn.MaxPool2d(2, 2))\n",
        "        self.layer1 = layer1\n",
        "\n",
        "        layer2 = torch.nn.Sequential()\n",
        "        layer2.add_module('fc1', torch.nn.Linear(200704, 2))\n",
        "        self.layer2 = layer2\n",
        "        \n",
        "      def forward(self, x):\n",
        "        conv1 = self.layer1(x)\n",
        "        fc_input = conv1.view(conv1.size(0), -1)\n",
        "        fc_out = self.layer2(fc_input)\n",
        "        return fc_out"
      ],
      "execution_count": null,
      "outputs": []
    },
    {
      "cell_type": "code",
      "metadata": {
        "id": "DJMi8pQVpf9a"
      },
      "source": [
        "def train(n_epochs, trainloader, validloader, model, optimizer, criterion, use_cuda, save_path= None, is_not_teacher=False):\n",
        "    \"\"\"returns trained model\"\"\"\n",
        "    # # initialize tracker for minimum validation loss\n",
        "    valid_loss_min = np.Inf\n",
        "\n",
        "    for epoch in range(1, n_epochs+1):\n",
        "        # initialize variables to monitor training and validation loss\n",
        "        train_loss = 0.0\n",
        "        valid_loss = 0.0\n",
        "        train_correct = 0.0\n",
        "        train_total = 0.0\n",
        "        valid_correct =0.0\n",
        "        valid_total = 0.0\n",
        "        # train the model #\n",
        "        model.train()\n",
        "        for batch_idx, (data, target) in enumerate(trainloader):\n",
        "            # move to GPU\n",
        "            if use_cuda:\n",
        "                data, target = data.cuda(), target.cuda()\n",
        "            # initialize weights to zero\n",
        "            optimizer.zero_grad()\n",
        "            output = model(data)\n",
        "            loss = criterion(output, target)\n",
        "            loss.backward()\n",
        "            optimizer.step()    \n",
        "            train_loss = train_loss + ((1 / (batch_idx + 1)) * (loss.data - train_loss))\n",
        "\n",
        "            # convert output probabilities to predicted class\n",
        "            pred = output.data.max(1, keepdim=True)[1]\n",
        "            # compare predictions to true label\n",
        "            train_correct += np.sum(np.squeeze(pred.eq(target.data.view_as(pred))).cpu().numpy())\n",
        "            train_total += data.size(0)\n",
        "            train_acc = 100. * train_correct / train_total\n",
        "\n",
        "        # validate the model\n",
        "        model.eval()\n",
        "        for batch_idx, (data, target) in enumerate(validloader):\n",
        "            # move to GPU\n",
        "            if use_cuda:\n",
        "                data, target = data.cuda(), target.cuda()\n",
        "            output = model(data)\n",
        "            loss = criterion(output, target)\n",
        "            valid_loss = valid_loss + ((1 / (batch_idx + 1)) * (loss.data - valid_loss))\n",
        "\n",
        "            pred = output.data.max(1, keepdim=True)[1]\n",
        "            # compare predictions to true label\n",
        "            valid_correct += np.sum(np.squeeze(pred.eq(target.data.view_as(pred))).cpu().numpy())\n",
        "            valid_total += data.size(0)\n",
        "            valid_acc = 100. * valid_correct / valid_total\n",
        "\n",
        "        # print training/validation statistics\n",
        "        print('Epoch: {} \\n\\tTrain Loss: {:.6f} \\tTrain Acc: {:.6f} \\n\\tValid Loss: {:.6f} \\tValid Acc: {:.6f}'.format(\n",
        "            epoch,train_loss,train_acc,valid_loss,valid_acc ))\n",
        "\n",
        "        ## save the student model if validation loss has decreased\n",
        "        if is_not_teacher:\n",
        "          if valid_loss < valid_loss_min:\n",
        "              torch.save(model.state_dict(), save_path)\n",
        "              print('\\tValidation loss decreased ({:.6f} --> {:.6f}).  Saving model ...'.format(\n",
        "              valid_loss_min,\n",
        "              valid_loss))\n",
        "              valid_loss_min = valid_loss\n",
        "\n",
        "    return model"
      ],
      "execution_count": null,
      "outputs": []
    },
    {
      "cell_type": "code",
      "metadata": {
        "id": "sV1cbtetpkWq"
      },
      "source": [
        "# instantiate model and move it to GPU if available\n",
        "model = SimpleCNN()\n",
        "model.to(device)\n",
        "\n",
        "#define hyperparameters\n",
        "criterion = nn.CrossEntropyLoss()\n",
        "optimizer = optim.Adam(model.parameters() , lr=0.001)\n",
        "epochs = 5"
      ],
      "execution_count": null,
      "outputs": []
    },
    {
      "cell_type": "code",
      "metadata": {
        "id": "4vFYWH76wSL_",
        "colab": {
          "base_uri": "https://localhost:8080/",
          "height": 1000
        },
        "outputId": "ec8a8ac4-b476-4690-f605-c2fd4c944b33"
      },
      "source": [
        "# Training teachers\n",
        "teacher_models = []\n",
        "i = 1\n",
        "for trainloader, validloader in zip(trainloaders, validloaders):\n",
        "  print(\" Training Teacher {}\".format(i))\n",
        "  teacher_model = train(epochs, trainloader, validloader, model, optimizer, criterion, True)\n",
        "  teacher_models.append(teacher_model)\n",
        "  i+=1\n",
        "  print(\"=\"*50)"
      ],
      "execution_count": null,
      "outputs": [
        {
          "output_type": "stream",
          "text": [
            " Training Teacher 1\n",
            "Epoch: 1 \n",
            "\tTrain Loss: 5.671895 \tTrain Acc: 75.443383 \n",
            "\tValid Loss: 1.306926 \tValid Acc: 80.874317\n",
            "Epoch: 2 \n",
            "\tTrain Loss: 0.789388 \tTrain Acc: 86.766712 \n",
            "\tValid Loss: 0.382339 \tValid Acc: 89.071038\n",
            "Epoch: 3 \n",
            "\tTrain Loss: 0.451482 \tTrain Acc: 88.676671 \n",
            "\tValid Loss: 0.377517 \tValid Acc: 89.071038\n",
            "Epoch: 4 \n",
            "\tTrain Loss: 0.314177 \tTrain Acc: 89.768076 \n",
            "\tValid Loss: 0.226766 \tValid Acc: 92.349727\n",
            "Epoch: 5 \n",
            "\tTrain Loss: 0.324960 \tTrain Acc: 90.995907 \n",
            "\tValid Loss: 0.278723 \tValid Acc: 90.710383\n",
            "==================================================\n",
            " Training Teacher 2\n",
            "Epoch: 1 \n",
            "\tTrain Loss: 0.333169 \tTrain Acc: 90.040928 \n",
            "\tValid Loss: 0.290783 \tValid Acc: 88.524590\n",
            "Epoch: 2 \n",
            "\tTrain Loss: 0.267802 \tTrain Acc: 92.769441 \n",
            "\tValid Loss: 0.247014 \tValid Acc: 90.163934\n",
            "Epoch: 3 \n",
            "\tTrain Loss: 0.347447 \tTrain Acc: 90.313779 \n",
            "\tValid Loss: 0.192838 \tValid Acc: 95.628415\n",
            "Epoch: 4 \n",
            "\tTrain Loss: 0.306401 \tTrain Acc: 91.268759 \n",
            "\tValid Loss: 0.123237 \tValid Acc: 92.896175\n",
            "Epoch: 5 \n",
            "\tTrain Loss: 0.422019 \tTrain Acc: 90.450205 \n",
            "\tValid Loss: 0.555557 \tValid Acc: 85.245902\n",
            "==================================================\n",
            " Training Teacher 3\n",
            "Epoch: 1 \n",
            "\tTrain Loss: 0.445605 \tTrain Acc: 88.540246 \n",
            "\tValid Loss: 0.197145 \tValid Acc: 93.989071\n",
            "Epoch: 2 \n",
            "\tTrain Loss: 0.294026 \tTrain Acc: 91.132333 \n",
            "\tValid Loss: 0.162085 \tValid Acc: 93.442623\n",
            "Epoch: 3 \n",
            "\tTrain Loss: 0.202979 \tTrain Acc: 93.042292 \n",
            "\tValid Loss: 0.138580 \tValid Acc: 95.628415\n",
            "Epoch: 4 \n",
            "\tTrain Loss: 0.238913 \tTrain Acc: 91.405184 \n",
            "\tValid Loss: 0.227997 \tValid Acc: 91.256831\n",
            "Epoch: 5 \n",
            "\tTrain Loss: 0.349209 \tTrain Acc: 90.177353 \n",
            "\tValid Loss: 0.136086 \tValid Acc: 96.721311\n",
            "==================================================\n",
            " Training Teacher 4\n",
            "Epoch: 1 \n",
            "\tTrain Loss: 0.237990 \tTrain Acc: 92.360164 \n",
            "\tValid Loss: 0.144580 \tValid Acc: 95.081967\n",
            "Epoch: 2 \n",
            "\tTrain Loss: 0.345724 \tTrain Acc: 89.631651 \n",
            "\tValid Loss: 0.849336 \tValid Acc: 77.595628\n",
            "Epoch: 3 \n",
            "\tTrain Loss: 0.363752 \tTrain Acc: 90.586630 \n",
            "\tValid Loss: 0.281367 \tValid Acc: 93.442623\n",
            "Epoch: 4 \n",
            "\tTrain Loss: 0.220040 \tTrain Acc: 93.860846 \n",
            "\tValid Loss: 0.234669 \tValid Acc: 93.442623\n",
            "Epoch: 5 \n",
            "\tTrain Loss: 0.188018 \tTrain Acc: 93.860846 \n",
            "\tValid Loss: 0.281607 \tValid Acc: 92.349727\n",
            "==================================================\n",
            " Training Teacher 5\n",
            "Epoch: 1 \n",
            "\tTrain Loss: 0.219291 \tTrain Acc: 93.178718 \n",
            "\tValid Loss: 0.218839 \tValid Acc: 92.349727\n",
            "Epoch: 2 \n",
            "\tTrain Loss: 0.178013 \tTrain Acc: 93.860846 \n",
            "\tValid Loss: 0.158945 \tValid Acc: 94.535519\n",
            "Epoch: 3 \n",
            "\tTrain Loss: 0.205756 \tTrain Acc: 93.042292 \n",
            "\tValid Loss: 0.213504 \tValid Acc: 92.349727\n",
            "Epoch: 4 \n",
            "\tTrain Loss: 0.205116 \tTrain Acc: 93.997271 \n",
            "\tValid Loss: 0.179544 \tValid Acc: 92.349727\n",
            "Epoch: 5 \n",
            "\tTrain Loss: 0.170335 \tTrain Acc: 94.406548 \n",
            "\tValid Loss: 0.195654 \tValid Acc: 92.349727\n",
            "==================================================\n"
          ],
          "name": "stdout"
        }
      ]
    },
    {
      "cell_type": "code",
      "metadata": {
        "id": "Fwq5esP7wUjC",
        "colab": {
          "base_uri": "https://localhost:8080/",
          "height": 50
        },
        "outputId": "f7e16a5d-365c-41af-b6c8-079201cfae31"
      },
      "source": [
        "# get private labels\n",
        "def student_train_labels(teacher_models, dataloader):\n",
        "  student_labels = []\n",
        "\n",
        "  # get label from each teacher\n",
        "  for model in teacher_models:\n",
        "    student_label = []\n",
        "    for images,_ in dataloader:\n",
        "      with torch.no_grad():\n",
        "        images = images.cuda()\n",
        "        outputs = model(images)\n",
        "        preds = torch.argmax(torch.exp(outputs), dim=1)\n",
        "      student_label.append(preds.tolist())\n",
        "\n",
        "    # add all teacher predictions to student_labels  \n",
        "    student_label = sum(student_label, [])\n",
        "    student_labels.append(student_label)\n",
        "  return student_labels\n",
        "\n",
        "predicted_labels = student_train_labels(teacher_models, student_train_loader)     \n",
        "predicted_labels = np.array([np.array(p) for p in predicted_labels]).transpose(1, 0)\n",
        "\n",
        "# We see here that we have 5 labels for each image in our dataset\n",
        "print(predicted_labels.shape)\n",
        "# See labels of 3rd Image Scan\n",
        "print(predicted_labels[3])"
      ],
      "execution_count": null,
      "outputs": [
        {
          "output_type": "stream",
          "text": [
            "(647, 5)\n",
            "[1 1 1 1 1]\n"
          ],
          "name": "stdout"
        }
      ]
    },
    {
      "cell_type": "code",
      "metadata": {
        "id": "rjwtSqMD0RE2",
        "colab": {
          "base_uri": "https://localhost:8080/",
          "height": 336
        },
        "outputId": "cca14ec6-b0c5-4ba6-e581-fcfa8fbc7c15"
      },
      "source": [
        "# Get private labels with the most votes count and add noise them\n",
        "epsilon=0.1\n",
        "\n",
        "def add_noise(predicted_labels, epsilon=epsilon):\n",
        "  noisy_labels = []\n",
        "  for preds in predicted_labels:\n",
        "\n",
        "    # get labels with max votes\n",
        "    label_counts = np.bincount(preds, minlength=2)\n",
        "\n",
        "    # add laplacian noise to label\n",
        "    epsilon = epsilon\n",
        "    beta = 1/epsilon\n",
        "    for i in range(len(label_counts)):\n",
        "      label_counts[i] += np.random.laplace(0, beta, 1)\n",
        "\n",
        "    # after adding noise we get labels with max counts\n",
        "    new_label = np.argmax(label_counts)\n",
        "    noisy_labels.append(new_label)\n",
        "\n",
        "  #return noisy_labels\n",
        "  return np.array(noisy_labels)\n",
        "\n",
        "labels_with_noise = add_noise(predicted_labels, epsilon=epsilon)  \n",
        "print(labels_with_noise)\n",
        "print(labels_with_noise.shape)"
      ],
      "execution_count": null,
      "outputs": [
        {
          "output_type": "stream",
          "text": [
            "[1 1 1 1 1 1 0 0 1 1 1 0 1 1 1 0 0 0 0 1 1 0 1 0 1 0 0 1 0 1 1 1 1 1 0 1 0\n",
            " 0 1 0 1 1 0 0 0 0 0 1 0 0 1 1 0 1 0 1 1 1 0 0 1 1 1 0 1 1 1 1 1 0 0 0 1 0\n",
            " 0 1 0 0 0 1 1 0 1 0 1 0 1 0 0 0 0 1 1 1 0 0 0 0 0 0 1 0 1 1 0 0 1 1 1 1 0\n",
            " 1 0 0 1 0 1 1 0 1 1 1 1 0 1 0 1 1 1 1 0 0 0 1 0 1 0 0 0 1 1 1 0 0 1 1 1 0\n",
            " 1 0 0 1 0 1 1 0 0 0 1 1 0 0 0 0 0 1 0 1 1 0 1 1 1 1 0 1 1 0 0 1 0 1 1 1 1\n",
            " 1 1 1 1 0 1 1 1 0 0 0 0 1 1 1 1 0 1 0 1 0 1 1 0 1 1 0 1 1 1 1 1 1 1 1 0 1\n",
            " 0 1 0 1 0 0 1 0 1 1 0 1 1 1 1 0 1 0 0 1 0 1 1 1 0 0 1 1 1 0 1 0 1 1 0 0 1\n",
            " 1 1 1 1 0 0 1 0 1 1 1 0 1 1 0 0 0 0 0 0 1 1 0 1 0 0 0 1 1 1 0 1 1 1 1 0 0\n",
            " 0 0 1 0 1 0 0 0 1 0 0 0 1 1 0 1 1 0 1 1 0 1 1 0 0 1 1 0 0 1 0 1 0 0 1 0 1\n",
            " 1 0 1 1 0 0 1 0 0 0 1 1 1 1 0 1 1 0 0 0 0 0 1 1 1 0 0 1 0 1 1 1 0 1 0 1 1\n",
            " 0 1 0 1 1 1 1 1 1 0 1 0 1 1 1 1 1 0 1 1 0 0 0 0 0 0 1 0 1 1 1 0 1 1 1 1 0\n",
            " 1 1 0 1 1 0 0 0 0 0 1 0 0 0 1 0 1 0 0 1 1 0 1 1 1 1 0 0 1 0 1 0 1 1 0 1 1\n",
            " 0 0 1 0 1 0 1 1 1 0 0 1 0 0 1 1 0 0 1 0 0 1 0 0 1 0 0 0 1 0 0 1 0 1 0 1 0\n",
            " 1 1 0 1 0 0 1 1 0 0 0 0 1 0 0 0 1 1 1 1 1 1 1 1 1 0 0 0 0 1 1 1 0 0 0 0 0\n",
            " 1 1 0 0 0 1 1 0 0 1 0 1 1 0 0 0 1 1 0 1 0 1 0 1 1 0 1 1 0 1 0 0 0 1 0 0 0\n",
            " 0 1 1 0 1 1 1 1 1 0 0 0 1 0 0 0 1 1 1 0 0 1 1 1 0 1 1 1 1 1 0 1 1 0 0 0 0\n",
            " 1 1 0 1 0 0 1 0 1 0 1 0 0 1 1 1 1 1 1 0 0 1 0 1 0 1 1 1 1 1 1 0 0 0 1 0 0\n",
            " 0 1 0 0 1 0 1 1 0 0 1 0 0 1 0 0 1 1]\n",
            "(647,)\n"
          ],
          "name": "stdout"
        }
      ]
    },
    {
      "cell_type": "code",
      "metadata": {
        "id": "4WiKroMv0XBS"
      },
      "source": [
        "#write to csv file\n",
        "import csv\n",
        "def write_csv(data):\n",
        "  with open('labels.csv', 'a') as outfile:\n",
        "      writer = csv.writer(outfile)\n",
        "      writer.writerow(data)\n",
        "\n",
        "write_csv(labels_with_noise)"
      ],
      "execution_count": null,
      "outputs": []
    },
    {
      "cell_type": "code",
      "metadata": {
        "id": "rLAhRcoL0YXB",
        "colab": {
          "base_uri": "https://localhost:8080/",
          "height": 50
        },
        "outputId": "184ceafd-070b-45c4-ad55-3f16cb8bd0b1"
      },
      "source": [
        "# Performing PATE analysis\n",
        "data_dep_eps, data_ind_eps = pate.perform_analysis(teacher_preds=predicted_labels.T, indices=labels_with_noise, noise_eps=epsilon, delta=1e-5)\n",
        "print('Data dependent epsilon:', data_dep_eps)\n",
        "print('Data independent epsilon:', data_ind_eps)"
      ],
      "execution_count": null,
      "outputs": [
        {
          "output_type": "stream",
          "text": [
            "Data dependent epsilon: 37.392925464969856\n",
            "Data independent epsilon: 37.39292546497023\n"
          ],
          "name": "stdout"
        }
      ]
    },
    {
      "cell_type": "code",
      "metadata": {
        "id": "wDzjNyIc0aal",
        "colab": {
          "base_uri": "https://localhost:8080/",
          "height": 34
        },
        "outputId": "17f77e08-8a4a-4cb7-bc4b-fd18d6565233"
      },
      "source": [
        "# We have to create a new training dataloader for the student with the newly created\n",
        "# labels with noise. We have to replace the old labels with the new labels\n",
        "def new_student_data_loader(dataloader, noisy_labels, batch_size=32):\n",
        "  image_list = []\n",
        "  for image,_ in dataloader:\n",
        "    image_list.append(image)\n",
        "\n",
        "  data = np.vstack(image_list)\n",
        "  new_dataset = list(zip(data, noisy_labels))\n",
        "  new_dataloader = DataLoader(new_dataset, batch_size, shuffle=False)\n",
        "\n",
        "  return new_dataloader\n",
        "\n",
        "labeled_student_trainloader = new_student_data_loader(student_train_loader, labels_with_noise)\n",
        "len(labeled_student_trainloader),len(student_valid_loader)"
      ],
      "execution_count": null,
      "outputs": [
        {
          "output_type": "execute_result",
          "data": {
            "text/plain": [
              "(21, 9)"
            ]
          },
          "metadata": {
            "tags": []
          },
          "execution_count": 50
        }
      ]
    },
    {
      "cell_type": "code",
      "metadata": {
        "id": "ky7vzPzB0h3Q",
        "colab": {
          "base_uri": "https://localhost:8080/",
          "height": 319
        },
        "outputId": "fa4655e9-b223-4999-e173-230aaea500ce"
      },
      "source": [
        "student_model = train(epochs, labeled_student_trainloader, student_valid_loader, model, optimizer, criterion, True, save_path='./student.pth.tar', is_not_teacher=True)"
      ],
      "execution_count": null,
      "outputs": [
        {
          "output_type": "stream",
          "text": [
            "Epoch: 1 \n",
            "\tTrain Loss: 1.679032 \tTrain Acc: 54.404946 \n",
            "\tValid Loss: 1.057793 \tValid Acc: 56.678700\n",
            "\tValidation loss decreased (inf --> 1.057793).  Saving model ...\n",
            "Epoch: 2 \n",
            "\tTrain Loss: 0.966129 \tTrain Acc: 62.132921 \n",
            "\tValid Loss: 0.777702 \tValid Acc: 58.844765\n",
            "\tValidation loss decreased (1.057793 --> 0.777702).  Saving model ...\n",
            "Epoch: 3 \n",
            "\tTrain Loss: 0.676011 \tTrain Acc: 66.151468 \n",
            "\tValid Loss: 0.704973 \tValid Acc: 60.288809\n",
            "\tValidation loss decreased (0.777702 --> 0.704973).  Saving model ...\n",
            "Epoch: 4 \n",
            "\tTrain Loss: 0.371268 \tTrain Acc: 81.607419 \n",
            "\tValid Loss: 0.717804 \tValid Acc: 61.732852\n",
            "Epoch: 5 \n",
            "\tTrain Loss: 0.281098 \tTrain Acc: 89.026275 \n",
            "\tValid Loss: 0.772089 \tValid Acc: 58.483755\n"
          ],
          "name": "stdout"
        }
      ]
    },
    {
      "cell_type": "code",
      "metadata": {
        "id": "Hh7cMW2_0ib9",
        "colab": {
          "base_uri": "https://localhost:8080/",
          "height": 302
        },
        "outputId": "1cd90672-d405-4f08-d862-067a1053549b"
      },
      "source": [
        "# Normal DL Training\n",
        "normal_model = train(epochs, student_train_loader, student_valid_loader, model, optimizer, criterion, True, save_path='./normal.pth.tar', is_not_teacher=True)"
      ],
      "execution_count": null,
      "outputs": [
        {
          "output_type": "stream",
          "text": [
            "Epoch: 1 \n",
            "\tTrain Loss: 0.484794 \tTrain Acc: 78.052550 \n",
            "\tValid Loss: 0.608976 \tValid Acc: 80.505415\n",
            "\tValidation loss decreased (inf --> 0.608976).  Saving model ...\n",
            "Epoch: 2 \n",
            "\tTrain Loss: 0.398522 \tTrain Acc: 85.316847 \n",
            "\tValid Loss: 0.266165 \tValid Acc: 89.530686\n",
            "\tValidation loss decreased (0.608976 --> 0.266165).  Saving model ...\n",
            "Epoch: 3 \n",
            "\tTrain Loss: 0.380817 \tTrain Acc: 87.017002 \n",
            "\tValid Loss: 0.287362 \tValid Acc: 87.364621\n",
            "Epoch: 4 \n",
            "\tTrain Loss: 0.277632 \tTrain Acc: 89.953632 \n",
            "\tValid Loss: 0.317424 \tValid Acc: 88.086643\n",
            "Epoch: 5 \n",
            "\tTrain Loss: 0.255281 \tTrain Acc: 91.344668 \n",
            "\tValid Loss: 0.312643 \tValid Acc: 88.808664\n"
          ],
          "name": "stdout"
        }
      ]
    },
    {
      "cell_type": "code",
      "metadata": {
        "id": "sxEuWrYb0orX",
        "colab": {
          "base_uri": "https://localhost:8080/",
          "height": 34
        },
        "outputId": "21b94132-e238-4ea8-c172-49cbe61dd1bf"
      },
      "source": [
        "# Create a dataloader for the test Dataset\n",
        "batch_size=16\n",
        "print(len(validset))\n",
        "dataloader = DataLoader(validset, batch_size=batchsize, shuffle=False)"
      ],
      "execution_count": null,
      "outputs": [
        {
          "output_type": "stream",
          "text": [
            "350\n"
          ],
          "name": "stdout"
        }
      ]
    },
    {
      "cell_type": "code",
      "metadata": {
        "id": "ewj6J53_0uQW",
        "colab": {
          "base_uri": "https://localhost:8080/",
          "height": 1000
        },
        "outputId": "0f64f636-e0f3-4277-ec67-57d99df8223a"
      },
      "source": [
        "# We set a seed for the dataset to prevent it from producing different values every time it is run\n",
        "seed = 3\n",
        "random.seed(seed)\n",
        "np.random.seed(seed)\n",
        "torch.manual_seed(seed)\n",
        "torch.backends.cudnn.deterministic = True\n",
        "torch.backends.cudnn.benchmark = False\n",
        "\n",
        "\n",
        "def test(dataloader, model, criterion, use_cuda):\n",
        "\n",
        "    # monitor test loss and accuracy\n",
        "    test_loss = 0.\n",
        "    correct = 0.\n",
        "    total = 0.\n",
        "    y_true = []\n",
        "    y_pred = []\n",
        "\n",
        "    model.eval()\n",
        "    for batch_idx, (data, target) in enumerate(dataloader):\n",
        "        # move to GPU\n",
        "        if use_cuda:\n",
        "            data, target = data.cuda(), target.cuda()\n",
        "\n",
        "        # forward pass: compute predicted outputs by passing inputs to the model\n",
        "        output = model(data)\n",
        "\n",
        "        # calculate the loss\n",
        "        loss = criterion(output, target)\n",
        "\n",
        "        # update average test loss\n",
        "        test_loss = test_loss + ((1 / (batch_idx + 1)) * (loss.data - test_loss))\n",
        "\n",
        "        # convert output probabilities to predicted class\n",
        "        pred = output.data.max(1, keepdim=True)[1]\n",
        "        temp_pred = pred       \n",
        "        y_pred+=(temp_pred.cpu().numpy().transpose().tolist())\n",
        "\n",
        "        # compare predictions to true label\n",
        "        correct += np.sum(np.squeeze(pred.eq(target.data.view_as(pred))).cpu().numpy())\n",
        "        total += data.size(0)\n",
        "\n",
        "    print('\\tTest Loss: {:.6f}'.format(test_loss))\n",
        "    print('\\tTest Accuracy: %2d%% (%2d/%2d)' % (\n",
        "        100. * correct / total, correct, total))\n",
        "\n",
        "    y_pred = sum(y_pred,[])\n",
        "    \n",
        "    y_true = [int(dataloader.dataset.img_list[i][1]) for i in range(len(dataloader.dataset.img_list)) ]\n",
        "\n",
        "    #plot confusion matrix\n",
        "    cm  = confusion_matrix(y_true, y_pred)\n",
        "    plt.figure()\n",
        "    plot_confusion_matrix(cm,figsize=(12,8),cmap=plt.cm.Blues)\n",
        "    plt.xticks(range(2), ['Normal', 'Pneumonia'], fontsize=16)\n",
        "    plt.yticks(range(2), ['Normal', 'Pneumonia'], fontsize=16)\n",
        "    plt.xlabel('Predicted Label',fontsize=18)\n",
        "    plt.ylabel('True Label',fontsize=18)\n",
        "    plt.show()\n",
        "\n",
        "    # Compute Performance Metrics\n",
        "    tn, fp, fn, tp = cm.ravel()\n",
        "\n",
        "    accuracy = (np.array(y_pred) == np.array(y_true)).sum() / len(y_pred)\n",
        "    precision = tp/(tp+fp)\n",
        "    recall = tp/(tp+fn)\n",
        "    f1 = 2*((precision*recall)/(precision+recall))\n",
        "\n",
        "    print(\"Accuracy of the model is {:.2f}\".format(accuracy))\n",
        "    print(\"Recall of the model is {:.2f}\".format(recall))\n",
        "    print(\"Precision of the model is {:.2f}\".format(precision))\n",
        "    print(\"F1 Score of the model is {:.2f}\".format(f1))\n",
        "\n",
        "# call test function\n",
        "print(\"Student Model\")     \n",
        "test(dataloader, student_model, criterion, True)\n",
        "\n",
        "print(\"\\n=======================\\nNormal Model\")\n",
        "test(dataloader, normal_model, criterion, True)"
      ],
      "execution_count": null,
      "outputs": [
        {
          "output_type": "stream",
          "text": [
            "Student Model\n",
            "\tTest Loss: 0.158050\n",
            "\tTest Accuracy: 94% (331/350)\n"
          ],
          "name": "stdout"
        },
        {
          "output_type": "display_data",
          "data": {
            "text/plain": [
              "<Figure size 432x288 with 0 Axes>"
            ]
          },
          "metadata": {
            "tags": []
          }
        },
        {
          "output_type": "display_data",
          "data": {
            "image/png": "[encoded data removed]",
            "text/plain": [
              "<Figure size 864x576 with 1 Axes>"
            ]
          },
          "metadata": {
            "tags": [],
            "needs_background": "light"
          }
        },
        {
          "output_type": "stream",
          "text": [
            "Accuracy of the model is 0.95\n",
            "Recall of the model is 0.93\n",
            "Precision of the model is 0.98\n",
            "F1 Score of the model is 0.95\n",
            "\n",
            "=======================\n",
            "Normal Model\n",
            "\tTest Loss: 0.175293\n",
            "\tTest Accuracy: 94% (331/350)\n"
          ],
          "name": "stdout"
        },
        {
          "output_type": "display_data",
          "data": {
            "text/plain": [
              "<Figure size 432x288 with 0 Axes>"
            ]
          },
          "metadata": {
            "tags": []
          }
        },
        {
          "output_type": "display_data",
          "data": {
            "image/png": "[encoded data removed]",
            "text/plain": [
              "<Figure size 864x576 with 1 Axes>"
            ]
          },
          "metadata": {
            "tags": [],
            "needs_background": "light"
          }
        },
        {
          "output_type": "stream",
          "text": [
            "Accuracy of the model is 0.95\n",
            "Recall of the model is 0.93\n",
            "Precision of the model is 0.97\n",
            "F1 Score of the model is 0.95\n"
          ],
          "name": "stdout"
        }
      ]
    },
    {
      "cell_type": "markdown",
      "metadata": {
        "id": "xmtDi3AmgbE_"
      },
      "source": [
        "**REFERENCES:**\n",
        "\n",
        "1. Set up kaggle api in colab and download data:\n",
        "\n",
        "https://www.kaggle.com/general/74235\n",
        "\n",
        "https://stackoverflow.com/questions/60246795/how-to-set-up-kaggle-api-in-colab\n",
        "\n",
        "2. Data source:\n",
        "\n",
        "https://www.kaggle.com/paultimothymooney/chest-xray-pneumonia/notebooks?sortBy=relevance&group=everyone&search=Keras&page=1&pageSize=20&datasetId=17810\n",
        "\n",
        "3. Most of the code is taken from this source:\n",
        "\n",
        "https://blog.openmined.org/maintaining-privacy-in-medical-data-with-differential-privacy/\n",
        "\n",
        "https://towardsdatascience.com/a-5-step-guide-on-incorporating-differential-privacy-into-your-deep-learning-models-7861c6c822c4\n",
        "\n",
        "4. Confusion matrix Kaggle reference.\n",
        "\n",
        "https://www.kaggle.com/teyang/pneumonia-detection-resnets-pytorch\n",
        "\n",
        "Also tried using RESNET from same source. \n",
        "\n",
        "5. Source for vgg16, RESNET:\n",
        "\n",
        "https://www.kaggle.com/dnik007/pneumonia-detection-using-pytorch"
      ]
    },
    {
      "cell_type": "code",
      "metadata": {
        "id": "MAkuhEFTtlCU"
      },
      "source": [
        "#Previously dataset was downloaded via kaggle api\n",
        "#import kaggle api\n",
        "#!pip install -q kaggle \n",
        "\n",
        "#!mkdir ~/.kaggle\n",
        "#!echo '{\"username\":\"aradhyakhandeparker\",\"key\":\"53f6a651956290b487bd268deb63072a\"}' > ~/.kaggle/kaggle.json\n",
        "#!chmod 600 ~/.kaggle/kaggle.json\n",
        "\n",
        "#!kaggle datasets download -d paultimothymooney/chest-xray-pneumonia\n",
        "\n",
        "#unzip dataset\n",
        "#!unzip /content/chest-xray-pneumonia.zip"
      ],
      "execution_count": null,
      "outputs": []
    },
    {
      "cell_type": "code",
      "metadata": {
        "id": "Q6ub2CyUwLNG"
      },
      "source": [
        "#class SimpleCNN(torch.nn.Module):\n",
        "#    def __init__(self):\n",
        "#        super(SimpleCNN, self).__init__() # b, 3, 32, 32\n",
        "#        layer1 = torch.nn.Sequential()\n",
        "#        layer1.add_module('conv1', torch.nn.Conv2d(3, 32, 3, 1, padding=1))\n",
        "\n",
        "#        #b, 32, 32, 32\n",
        "#        layer1.add_module('relu1', torch.nn.ReLU(True))\n",
        "#        layer1.add_module('pool1', torch.nn.MaxPool2d(2, 2))\n",
        "#        self.layer1 = layer1\n",
        "#        layer4 = torch.nn.Sequential()\n",
        "#        layer4.add_module('fc1', torch.nn.Linear(401408, 2))       \n",
        "#        self.layer4 = layer4\n",
        "#    def forward(self, x):\n",
        "#        conv1 = self.layer1(x)\n",
        "#        fc_input = conv1.view(conv1.size(0), -1)\n",
        "#        fc_out = self.layer4(fc_input)\n",
        "#\n",
        " #       return fc_out"
      ],
      "execution_count": null,
      "outputs": []
    },
    {
      "cell_type": "code",
      "metadata": {
        "id": "7NoBuXb0Ir9B"
      },
      "source": [
        "#def get_pretrained_model(model_name):\n",
        " #   \"\"\"Retrieve a pre-trained model from torchvision\n",
        "#\n",
        " #   Params\n",
        "  #  -------\n",
        "   #     model_name (str): name of the model (currently only accepts vgg16 and resnet50)\n",
        "\n",
        "    #Return\n",
        "#    --------\n",
        " #       model (PyTorch model): cnn\n",
        "\n",
        "  #  \"\"\"\n",
        "\n",
        "   # if model_name == 'vgg16':\n",
        "    #    model = models.vgg16(pretrained=True)\n",
        "#\n",
        " #       # Freeze early layers\n",
        "  #      for param in model.parameters():\n",
        "   #         param.requires_grad = False\n",
        "    #    n_inputs = model.classifier[6].in_features\n",
        "#\n",
        " #       # Add on classifier\n",
        "  #      model.classifier[6] = nn.Sequential(\n",
        "   #         nn.Linear(n_inputs, 256), nn.ReLU(), nn.Dropout(0.2),\n",
        "    #        nn.Linear(256, n_classes), nn.LogSoftmax(dim=1))\n",
        "#\n",
        " #   elif model_name == 'resnet50':\n",
        "  #      model = models.resnet50(pretrained=True)\n",
        "#\n",
        " #       for param in model.parameters():\n",
        "  #          param.requires_grad = False\n",
        "#\n",
        " #       n_inputs = model.fc.in_features\n",
        "  #      model.fc = nn.Sequential(\n",
        "   #         nn.Linear(n_inputs, 256), nn.ReLU(), nn.Dropout(0.2),\n",
        "    #        nn.Linear(256, n_classes), nn.LogSoftmax(dim=1))\n",
        "\n",
        "\n",
        "   # return model"
      ],
      "execution_count": null,
      "outputs": []
    }
  ]
}